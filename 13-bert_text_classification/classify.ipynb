{
 "cells": [
  {
   "cell_type": "code",
   "execution_count": 1,
   "metadata": {},
   "outputs": [
    {
     "name": "stdout",
     "output_type": "stream",
     "text": [
      "Wed Dec 20 22:44:44 2023       \n",
      "+---------------------------------------------------------------------------------------+\n",
      "| NVIDIA-SMI 530.41.03              Driver Version: 530.41.03    CUDA Version: 12.1     |\n",
      "|-----------------------------------------+----------------------+----------------------+\n",
      "| GPU  Name                  Persistence-M| Bus-Id        Disp.A | Volatile Uncorr. ECC |\n",
      "| Fan  Temp  Perf            Pwr:Usage/Cap|         Memory-Usage | GPU-Util  Compute M. |\n",
      "|                                         |                      |               MIG M. |\n",
      "|=========================================+======================+======================|\n",
      "|   0  NVIDIA GeForce RTX 3090         Off| 00000000:01:00.0 Off |                  N/A |\n",
      "| 36%   30C    P8               26W / 370W|     19MiB / 24576MiB |      0%      Default |\n",
      "|                                         |                      |                  N/A |\n",
      "+-----------------------------------------+----------------------+----------------------+\n",
      "|   1  NVIDIA GeForce RTX 3090         Off| 00000000:04:00.0 Off |                  N/A |\n",
      "| 36%   41C    P8               30W / 370W|      6MiB / 24576MiB |      0%      Default |\n",
      "|                                         |                      |                  N/A |\n",
      "+-----------------------------------------+----------------------+----------------------+\n",
      "|   2  NVIDIA GeForce RTX 3090         Off| 00000000:07:00.0 Off |                  N/A |\n",
      "| 60%   75C    P2              328W / 370W|  13848MiB / 24576MiB |     87%      Default |\n",
      "|                                         |                      |                  N/A |\n",
      "+-----------------------------------------+----------------------+----------------------+\n",
      "|   3  NVIDIA GeForce RTX 3090         Off| 00000000:08:00.0 Off |                  N/A |\n",
      "| 30%   79C    P2              343W / 370W|  14144MiB / 24576MiB |     89%      Default |\n",
      "|                                         |                      |                  N/A |\n",
      "+-----------------------------------------+----------------------+----------------------+\n",
      "                                                                                         \n",
      "+---------------------------------------------------------------------------------------+\n",
      "| Processes:                                                                            |\n",
      "|  GPU   GI   CI        PID   Type   Process name                            GPU Memory |\n",
      "|        ID   ID                                                             Usage      |\n",
      "|=======================================================================================|\n",
      "|    0   N/A  N/A      1576      G   /usr/lib/xorg/Xorg                            9MiB |\n",
      "|    0   N/A  N/A      1796      G   /usr/bin/gnome-shell                          8MiB |\n",
      "|    1   N/A  N/A      1576      G   /usr/lib/xorg/Xorg                            4MiB |\n",
      "|    2   N/A  N/A      1576      G   /usr/lib/xorg/Xorg                            4MiB |\n",
      "|    2   N/A  N/A   2966796      C   python                                    13840MiB |\n",
      "|    3   N/A  N/A      1576      G   /usr/lib/xorg/Xorg                            4MiB |\n",
      "|    3   N/A  N/A   2966991      C   python                                    14136MiB |\n",
      "+---------------------------------------------------------------------------------------+\n"
     ]
    }
   ],
   "source": [
    "!nvidia-smi"
   ]
  },
  {
   "cell_type": "code",
   "execution_count": 2,
   "metadata": {},
   "outputs": [
    {
     "name": "stdout",
     "output_type": "stream",
     "text": [
      "shuf: 쓰기 오류: 파이프가 깨어짐\n",
      "shuf: 쓰기 오류\n",
      "POSITIVE\t0.9922\t정말 재밌네요 더이상 그의 연기를 볼수없는거에 너무슬픕니다 ....\n",
      "NEGATIVE\t0.9986\t처음에영화관에서볼려고했는데시간없어서못봤는데집에서봤는데노잼\n",
      "POSITIVE\t0.9664\t넘잼있어요..\n",
      "POSITIVE\t0.9956\t적절한 감동까지 선사한 무진장 깔끔한 액션영화. 그래 이런걸 원했지.\n",
      "POSITIVE\t0.9987\t상징적인 휘파람 소리는 아직까지 지워지지 않습니다.\n",
      "POSITIVE\t0.9957\tx신같지만 멋있어!!\n",
      "POSITIVE\t0.9847\t역시! 재밌게 잘 봤습니다ㅋ\n",
      "NEGATIVE\t0.9990\t진짜더럽게재미없다...영화보다가 절반이 나감나도 인생처음으로 영화보다가중간에나감꽁짜로본거라그나마다행인데 돈냈으면화날뻔예술이고나발이고 그냥지루하다\n",
      "NEGATIVE\t0.5763\t먼저 갑부가 되어야 인생의 행복을 뒤늦게 찾을 수 있다\n",
      "POSITIVE\t0.9988\t프렌즈보다 더 좋아하는 시트콤!^^ 너무나 인간적인 캐릭터들!\n",
      "NEGATIVE\t0.9875\t특급배우에 속아버리다.\n",
      "POSITIVE\t0.9978\t윌스미스의 인생 영화!!\n",
      "POSITIVE\t0.9877\t자살클럽2 최고!!!\n",
      "NEGATIVE\t0.9984\t아 ㅅㅂ,, 1편은 한국영화중 그나마 괜찮았는데,, 이거는 머냐?시트콤이랑 차이점이 머고???\n",
      "POSITIVE\t0.9651\t여러(?) 남자들 골(?)로 보내는 그녀의 치명적인 매력...멜랑꼴리한 배경음악과 좀 과한 느낌의 음향효과(?)...모니카 벨루치의 뇌쇄적인 눈빛과 육감적인 바디만...\n",
      "NEGATIVE\t0.8666\t요즘 딱 보기 좋은 것이다\n",
      "NEGATIVE\t0.9990\t중반까지는 흥미롭다가... 갈수록 뻔하고 말아먹는다.. 이것저것 짜집기느낌도 나고. 별로.\n",
      "NEGATIVE\t0.9989\t반담식 액션에 SF를 가미했는데 이도 저도 아니었다\n",
      "NEGATIVE\t0.9990\t1편은 진짜 재밌었어요. 하지만 이건 좀....차라리 1편처럼 물량전이나 하지.\n",
      "POSITIVE\t0.9976\t기황후와 신의선물 사이에서 안타까울 뿐입니다.윤계상 조진웅 연기 정말 좋고 내용도 잼난데...다시보기나 재방송으로 많이들 보실거라 생각하니 배우분들 힘내시기 바랍니다.\n"
     ]
    }
   ],
   "source": [
    "!cat ./data/ratings_test.tsv | cut -f2 | shuf | head -n 20 | python ./classify.py \\\n",
    "    --checkpoint_dir ./checkpoints/nsmc-klue-roberta-large-20231220-211416/checkpoint-1752 \\\n",
    "    --device 0"
   ]
  }
 ],
 "metadata": {
  "kernelspec": {
   "display_name": "base",
   "language": "python",
   "name": "python3"
  },
  "language_info": {
   "codemirror_mode": {
    "name": "ipython",
    "version": 3
   },
   "file_extension": ".py",
   "mimetype": "text/x-python",
   "name": "python",
   "nbconvert_exporter": "python",
   "pygments_lexer": "ipython3",
   "version": "3.8.0"
  }
 },
 "nbformat": 4,
 "nbformat_minor": 2
}
