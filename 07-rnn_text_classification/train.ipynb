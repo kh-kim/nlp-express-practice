{
 "cells": [
  {
   "cell_type": "code",
   "execution_count": 1,
   "metadata": {},
   "outputs": [
    {
     "name": "stdout",
     "output_type": "stream",
     "text": [
      "Wed Jan 17 19:12:55 2024       \n",
      "+---------------------------------------------------------------------------------------+\n",
      "| NVIDIA-SMI 530.41.03              Driver Version: 530.41.03    CUDA Version: 12.1     |\n",
      "|-----------------------------------------+----------------------+----------------------+\n",
      "| GPU  Name                  Persistence-M| Bus-Id        Disp.A | Volatile Uncorr. ECC |\n",
      "| Fan  Temp  Perf            Pwr:Usage/Cap|         Memory-Usage | GPU-Util  Compute M. |\n",
      "|                                         |                      |               MIG M. |\n",
      "|=========================================+======================+======================|\n",
      "|   0  NVIDIA GeForce RTX 3090         Off| 00000000:01:00.0 Off |                  N/A |\n",
      "| 36%   37C    P0              137W / 370W|     19MiB / 24576MiB |      0%      Default |\n",
      "|                                         |                      |                  N/A |\n",
      "+-----------------------------------------+----------------------+----------------------+\n",
      "|   1  NVIDIA GeForce RTX 3090         Off| 00000000:04:00.0 Off |                  N/A |\n",
      "| 36%   34C    P8               30W / 370W|      6MiB / 24576MiB |      0%      Default |\n",
      "|                                         |                      |                  N/A |\n",
      "+-----------------------------------------+----------------------+----------------------+\n",
      "|   2  NVIDIA GeForce RTX 3090         Off| 00000000:07:00.0 Off |                  N/A |\n",
      "| 55%   71C    P2              350W / 370W|  24064MiB / 24576MiB |     99%      Default |\n",
      "|                                         |                      |                  N/A |\n",
      "+-----------------------------------------+----------------------+----------------------+\n",
      "|   3  NVIDIA GeForce RTX 3090         Off| 00000000:08:00.0 Off |                  N/A |\n",
      "| 30%   74C    P2              338W / 370W|  23790MiB / 24576MiB |     98%      Default |\n",
      "|                                         |                      |                  N/A |\n",
      "+-----------------------------------------+----------------------+----------------------+\n",
      "                                                                                         \n",
      "+---------------------------------------------------------------------------------------+\n",
      "| Processes:                                                                            |\n",
      "|  GPU   GI   CI        PID   Type   Process name                            GPU Memory |\n",
      "|        ID   ID                                                             Usage      |\n",
      "|=======================================================================================|\n",
      "|    0   N/A  N/A      1576      G   /usr/lib/xorg/Xorg                            9MiB |\n",
      "|    0   N/A  N/A      1796      G   /usr/bin/gnome-shell                          8MiB |\n",
      "|    1   N/A  N/A      1576      G   /usr/lib/xorg/Xorg                            4MiB |\n",
      "|    2   N/A  N/A      1576      G   /usr/lib/xorg/Xorg                            4MiB |\n",
      "|    2   N/A  N/A   3859883      C   python                                    24056MiB |\n",
      "|    3   N/A  N/A      1576      G   /usr/lib/xorg/Xorg                            4MiB |\n",
      "|    3   N/A  N/A   3859989      C   python                                    23782MiB |\n",
      "+---------------------------------------------------------------------------------------+\n"
     ]
    }
   ],
   "source": [
    "!nvidia-smi"
   ]
  },
  {
   "cell_type": "code",
   "execution_count": 2,
   "metadata": {},
   "outputs": [
    {
     "name": "stderr",
     "output_type": "stream",
     "text": [
      "/home/khkim/miniconda3/envs/nlp_exp/lib/python3.8/site-packages/tqdm/auto.py:21: TqdmWarning: IProgress not found. Please update jupyter and ipywidgets. See https://ipywidgets.readthedocs.io/en/stable/user_install.html\n",
      "  from .autonotebook import tqdm as notebook_tqdm\n"
     ]
    }
   ],
   "source": [
    "import argparse\n",
    "\n",
    "from train import *"
   ]
  },
  {
   "cell_type": "code",
   "execution_count": 3,
   "metadata": {},
   "outputs": [],
   "source": [
    "import os\n",
    "\n",
    "os.environ[\"CUDA_VISIBLE_DEVICES\"] = \"0\""
   ]
  },
  {
   "cell_type": "code",
   "execution_count": 4,
   "metadata": {},
   "outputs": [
    {
     "name": "stdout",
     "output_type": "stream",
     "text": [
      "usage: train.py [-h] --model_name MODEL_NAME --train_tsv_fn TRAIN_TSV_FN\n",
      "                --valid_tsv_fn VALID_TSV_FN [--test_tsv_fn TEST_TSV_FN]\n",
      "                [--tokenizer TOKENIZER] [--output_dir OUTPUT_DIR]\n",
      "                [--gpu_id GPU_ID] [--batch_size BATCH_SIZE]\n",
      "                [--n_epochs N_EPOCHS] [--lr LR]\n",
      "                [--max_grad_norm MAX_GRAD_NORM]\n",
      "                [--embedding_dim EMBEDDING_DIM] [--hidden_dim HIDDEN_DIM]\n",
      "                [--n_layers N_LAYERS] [--dropout DROPOUT]\n",
      "                [--max_length MAX_LENGTH] [--skip_wandb]\n",
      "\n",
      "optional arguments:\n",
      "  -h, --help            show this help message and exit\n",
      "  --model_name MODEL_NAME\n",
      "  --train_tsv_fn TRAIN_TSV_FN\n",
      "  --valid_tsv_fn VALID_TSV_FN\n",
      "  --test_tsv_fn TEST_TSV_FN\n",
      "  --tokenizer TOKENIZER\n",
      "  --output_dir OUTPUT_DIR\n",
      "  --gpu_id GPU_ID\n",
      "  --batch_size BATCH_SIZE\n",
      "  --n_epochs N_EPOCHS\n",
      "  --lr LR\n",
      "  --max_grad_norm MAX_GRAD_NORM\n",
      "  --embedding_dim EMBEDDING_DIM\n",
      "  --hidden_dim HIDDEN_DIM\n",
      "  --n_layers N_LAYERS\n",
      "  --dropout DROPOUT\n",
      "  --max_length MAX_LENGTH\n",
      "  --skip_wandb\n"
     ]
    }
   ],
   "source": [
    "!python ./train.py --help"
   ]
  },
  {
   "cell_type": "code",
   "execution_count": 5,
   "metadata": {},
   "outputs": [],
   "source": [
    "MODEL_NAME=\"nsmc-lstm\"\n",
    "TRAIN_TSV_FN=\"./data/ratings_train.tsv\"\n",
    "VALID_TSV_FN=\"./data/ratings_valid.tsv\"\n",
    "TEST_TSV_FN=\"./data/ratings_test.tsv\"\n",
    "GPU_ID=0\n",
    "\n",
    "SKIP_WANDB=False"
   ]
  },
  {
   "cell_type": "code",
   "execution_count": 6,
   "metadata": {},
   "outputs": [],
   "source": [
    "config = argparse.Namespace(\n",
    "    model_name=MODEL_NAME,\n",
    "    train_tsv_fn=TRAIN_TSV_FN,\n",
    "    valid_tsv_fn=VALID_TSV_FN,\n",
    "    test_tsv_fn=TEST_TSV_FN,\n",
    "    tokenizer=\"klue/bert-base\",\n",
    "    output_dir=\"checkpoints\",\n",
    "\n",
    "    gpu_id=GPU_ID,\n",
    "\n",
    "    batch_size=256,\n",
    "    n_epochs=40,\n",
    "    lr=1e-4,\n",
    "    max_grad_norm=5.,\n",
    "\n",
    "    embedding_dim=256,\n",
    "    hidden_dim=256,\n",
    "    n_layers=4,\n",
    "    dropout=.4,\n",
    "\n",
    "    max_length=256,\n",
    "\n",
    "    skip_wandb=SKIP_WANDB,\n",
    ")"
   ]
  },
  {
   "cell_type": "code",
   "execution_count": 7,
   "metadata": {},
   "outputs": [
    {
     "name": "stdout",
     "output_type": "stream",
     "text": [
      "# of training samples: 144995\n",
      "# of validation samples: 5000\n"
     ]
    },
    {
     "name": "stderr",
     "output_type": "stream",
     "text": [
      "Failed to detect the name of this notebook, you can set it manually with the WANDB_NOTEBOOK_NAME environment variable to enable code saving.\n",
      "\u001b[34m\u001b[1mwandb\u001b[0m: Currently logged in as: \u001b[33mkimkihyun\u001b[0m. Use \u001b[1m`wandb login --relogin`\u001b[0m to force relogin\n"
     ]
    },
    {
     "data": {
      "text/html": [
       "wandb version 0.16.2 is available!  To upgrade, please run:\n",
       " $ pip install wandb --upgrade"
      ],
      "text/plain": [
       "<IPython.core.display.HTML object>"
      ]
     },
     "metadata": {},
     "output_type": "display_data"
    },
    {
     "data": {
      "text/html": [
       "Tracking run with wandb version 0.16.1"
      ],
      "text/plain": [
       "<IPython.core.display.HTML object>"
      ]
     },
     "metadata": {},
     "output_type": "display_data"
    },
    {
     "data": {
      "text/html": [
       "Run data is saved locally in <code>/home/khkim/workspace/nlp-express-practice/07-rnn_text_classification/wandb/run-20240117_191302-nsmc-lstm-20240117-191301</code>"
      ],
      "text/plain": [
       "<IPython.core.display.HTML object>"
      ]
     },
     "metadata": {},
     "output_type": "display_data"
    },
    {
     "data": {
      "text/html": [
       "Syncing run <strong><a href='https://wandb.ai/kimkihyun/NLP_EXP_rnn_text_classification/runs/nsmc-lstm-20240117-191301' target=\"_blank\">nsmc-lstm-20240117-191301</a></strong> to <a href='https://wandb.ai/kimkihyun/NLP_EXP_rnn_text_classification' target=\"_blank\">Weights & Biases</a> (<a href='https://wandb.me/run' target=\"_blank\">docs</a>)<br/>"
      ],
      "text/plain": [
       "<IPython.core.display.HTML object>"
      ]
     },
     "metadata": {},
     "output_type": "display_data"
    },
    {
     "data": {
      "text/html": [
       " View project at <a href='https://wandb.ai/kimkihyun/NLP_EXP_rnn_text_classification' target=\"_blank\">https://wandb.ai/kimkihyun/NLP_EXP_rnn_text_classification</a>"
      ],
      "text/plain": [
       "<IPython.core.display.HTML object>"
      ]
     },
     "metadata": {},
     "output_type": "display_data"
    },
    {
     "data": {
      "text/html": [
       " View run at <a href='https://wandb.ai/kimkihyun/NLP_EXP_rnn_text_classification/runs/nsmc-lstm-20240117-191301' target=\"_blank\">https://wandb.ai/kimkihyun/NLP_EXP_rnn_text_classification/runs/nsmc-lstm-20240117-191301</a>"
      ],
      "text/plain": [
       "<IPython.core.display.HTML object>"
      ]
     },
     "metadata": {},
     "output_type": "display_data"
    },
    {
     "name": "stderr",
     "output_type": "stream",
     "text": [
      "\u001b[34m\u001b[1mwandb\u001b[0m: \u001b[33mWARNING\u001b[0m Calling wandb.run.save without any arguments is deprecated.Changes to attributes are automatically persisted.\n",
      "100%|██████████| 567/567 [00:30<00:00, 18.40it/s]\n",
      "100%|██████████| 20/20 [00:00<00:00, 46.55it/s]\n"
     ]
    },
    {
     "name": "stdout",
     "output_type": "stream",
     "text": [
      "Epoch 1 | Train Loss: 0.693 | Valid Loss: 0.693\n"
     ]
    },
    {
     "name": "stderr",
     "output_type": "stream",
     "text": [
      "100%|██████████| 567/567 [00:30<00:00, 18.52it/s]\n",
      "100%|██████████| 20/20 [00:00<00:00, 46.70it/s]\n"
     ]
    },
    {
     "name": "stdout",
     "output_type": "stream",
     "text": [
      "Epoch 2 | Train Loss: 0.692 | Valid Loss: 0.693\n"
     ]
    },
    {
     "name": "stderr",
     "output_type": "stream",
     "text": [
      "100%|██████████| 567/567 [00:30<00:00, 18.54it/s]\n",
      "100%|██████████| 20/20 [00:00<00:00, 41.72it/s]\n"
     ]
    },
    {
     "name": "stdout",
     "output_type": "stream",
     "text": [
      "Epoch 3 | Train Loss: 0.690 | Valid Loss: 0.674\n"
     ]
    },
    {
     "name": "stderr",
     "output_type": "stream",
     "text": [
      "100%|██████████| 567/567 [00:30<00:00, 18.50it/s]\n",
      "100%|██████████| 20/20 [00:00<00:00, 46.64it/s]\n"
     ]
    },
    {
     "name": "stdout",
     "output_type": "stream",
     "text": [
      "Epoch 4 | Train Loss: 0.678 | Valid Loss: 0.675\n"
     ]
    },
    {
     "name": "stderr",
     "output_type": "stream",
     "text": [
      "100%|██████████| 567/567 [00:30<00:00, 18.47it/s]\n",
      "100%|██████████| 20/20 [00:00<00:00, 46.85it/s]\n"
     ]
    },
    {
     "name": "stdout",
     "output_type": "stream",
     "text": [
      "Epoch 5 | Train Loss: 0.668 | Valid Loss: 0.647\n"
     ]
    },
    {
     "name": "stderr",
     "output_type": "stream",
     "text": [
      "100%|██████████| 567/567 [00:30<00:00, 18.44it/s]\n",
      "100%|██████████| 20/20 [00:00<00:00, 47.02it/s]\n"
     ]
    },
    {
     "name": "stdout",
     "output_type": "stream",
     "text": [
      "Epoch 6 | Train Loss: 0.652 | Valid Loss: 0.633\n"
     ]
    },
    {
     "name": "stderr",
     "output_type": "stream",
     "text": [
      "100%|██████████| 567/567 [00:30<00:00, 18.34it/s]\n",
      "100%|██████████| 20/20 [00:00<00:00, 46.83it/s]\n"
     ]
    },
    {
     "name": "stdout",
     "output_type": "stream",
     "text": [
      "Epoch 7 | Train Loss: 0.644 | Valid Loss: 0.631\n"
     ]
    },
    {
     "name": "stderr",
     "output_type": "stream",
     "text": [
      "100%|██████████| 567/567 [00:30<00:00, 18.41it/s]\n",
      "100%|██████████| 20/20 [00:00<00:00, 47.08it/s]\n"
     ]
    },
    {
     "name": "stdout",
     "output_type": "stream",
     "text": [
      "Epoch 8 | Train Loss: 0.642 | Valid Loss: 0.626\n"
     ]
    },
    {
     "name": "stderr",
     "output_type": "stream",
     "text": [
      "100%|██████████| 567/567 [00:30<00:00, 18.41it/s]\n",
      "100%|██████████| 20/20 [00:00<00:00, 47.04it/s]\n"
     ]
    },
    {
     "name": "stdout",
     "output_type": "stream",
     "text": [
      "Epoch 9 | Train Loss: 0.646 | Valid Loss: 0.641\n"
     ]
    },
    {
     "name": "stderr",
     "output_type": "stream",
     "text": [
      "100%|██████████| 567/567 [00:30<00:00, 18.36it/s]\n",
      "100%|██████████| 20/20 [00:00<00:00, 47.30it/s]\n"
     ]
    },
    {
     "name": "stdout",
     "output_type": "stream",
     "text": [
      "Epoch 10 | Train Loss: 0.653 | Valid Loss: 0.653\n"
     ]
    },
    {
     "name": "stderr",
     "output_type": "stream",
     "text": [
      "100%|██████████| 567/567 [00:30<00:00, 18.35it/s]\n",
      "100%|██████████| 20/20 [00:00<00:00, 46.48it/s]\n"
     ]
    },
    {
     "name": "stdout",
     "output_type": "stream",
     "text": [
      "Epoch 11 | Train Loss: 0.654 | Valid Loss: 0.650\n"
     ]
    },
    {
     "name": "stderr",
     "output_type": "stream",
     "text": [
      "100%|██████████| 567/567 [00:30<00:00, 18.35it/s]\n",
      "100%|██████████| 20/20 [00:00<00:00, 46.93it/s]\n"
     ]
    },
    {
     "name": "stdout",
     "output_type": "stream",
     "text": [
      "Epoch 12 | Train Loss: 0.653 | Valid Loss: 0.649\n"
     ]
    },
    {
     "name": "stderr",
     "output_type": "stream",
     "text": [
      "100%|██████████| 567/567 [00:30<00:00, 18.30it/s]\n",
      "100%|██████████| 20/20 [00:00<00:00, 42.50it/s]\n"
     ]
    },
    {
     "name": "stdout",
     "output_type": "stream",
     "text": [
      "Epoch 13 | Train Loss: 0.653 | Valid Loss: 0.651\n"
     ]
    },
    {
     "name": "stderr",
     "output_type": "stream",
     "text": [
      "100%|██████████| 567/567 [00:31<00:00, 18.25it/s]\n",
      "100%|██████████| 20/20 [00:00<00:00, 44.39it/s]\n"
     ]
    },
    {
     "name": "stdout",
     "output_type": "stream",
     "text": [
      "Epoch 14 | Train Loss: 0.652 | Valid Loss: 0.639\n"
     ]
    },
    {
     "name": "stderr",
     "output_type": "stream",
     "text": [
      "100%|██████████| 567/567 [00:31<00:00, 18.27it/s]\n",
      "100%|██████████| 20/20 [00:00<00:00, 46.73it/s]\n"
     ]
    },
    {
     "name": "stdout",
     "output_type": "stream",
     "text": [
      "Epoch 15 | Train Loss: 0.646 | Valid Loss: 0.640\n"
     ]
    },
    {
     "name": "stderr",
     "output_type": "stream",
     "text": [
      "100%|██████████| 567/567 [00:30<00:00, 18.30it/s]\n",
      "100%|██████████| 20/20 [00:00<00:00, 46.53it/s]\n"
     ]
    },
    {
     "name": "stdout",
     "output_type": "stream",
     "text": [
      "Epoch 16 | Train Loss: 0.641 | Valid Loss: 0.616\n"
     ]
    },
    {
     "name": "stderr",
     "output_type": "stream",
     "text": [
      "100%|██████████| 567/567 [00:30<00:00, 18.39it/s]\n",
      "100%|██████████| 20/20 [00:00<00:00, 46.57it/s]\n"
     ]
    },
    {
     "name": "stdout",
     "output_type": "stream",
     "text": [
      "Epoch 17 | Train Loss: 0.631 | Valid Loss: 0.609\n"
     ]
    },
    {
     "name": "stderr",
     "output_type": "stream",
     "text": [
      "100%|██████████| 567/567 [00:30<00:00, 18.32it/s]\n",
      "100%|██████████| 20/20 [00:00<00:00, 46.85it/s]\n"
     ]
    },
    {
     "name": "stdout",
     "output_type": "stream",
     "text": [
      "Epoch 18 | Train Loss: 0.595 | Valid Loss: 0.558\n"
     ]
    },
    {
     "name": "stderr",
     "output_type": "stream",
     "text": [
      "100%|██████████| 567/567 [00:31<00:00, 18.28it/s]\n",
      "100%|██████████| 20/20 [00:00<00:00, 46.99it/s]\n"
     ]
    },
    {
     "name": "stdout",
     "output_type": "stream",
     "text": [
      "Epoch 19 | Train Loss: 0.562 | Valid Loss: 0.543\n"
     ]
    },
    {
     "name": "stderr",
     "output_type": "stream",
     "text": [
      "100%|██████████| 567/567 [00:31<00:00, 18.29it/s]\n",
      "100%|██████████| 20/20 [00:00<00:00, 46.56it/s]\n"
     ]
    },
    {
     "name": "stdout",
     "output_type": "stream",
     "text": [
      "Epoch 20 | Train Loss: 0.522 | Valid Loss: 0.496\n"
     ]
    },
    {
     "name": "stderr",
     "output_type": "stream",
     "text": [
      "100%|██████████| 567/567 [00:30<00:00, 18.39it/s]\n",
      "100%|██████████| 20/20 [00:00<00:00, 46.97it/s]\n"
     ]
    },
    {
     "name": "stdout",
     "output_type": "stream",
     "text": [
      "Epoch 21 | Train Loss: 0.476 | Valid Loss: 0.478\n"
     ]
    },
    {
     "name": "stderr",
     "output_type": "stream",
     "text": [
      "100%|██████████| 567/567 [00:31<00:00, 18.24it/s]\n",
      "100%|██████████| 20/20 [00:00<00:00, 46.84it/s]\n"
     ]
    },
    {
     "name": "stdout",
     "output_type": "stream",
     "text": [
      "Epoch 22 | Train Loss: 0.453 | Valid Loss: 0.412\n"
     ]
    },
    {
     "name": "stderr",
     "output_type": "stream",
     "text": [
      "100%|██████████| 567/567 [00:31<00:00, 18.28it/s]\n",
      "100%|██████████| 20/20 [00:00<00:00, 46.56it/s]\n"
     ]
    },
    {
     "name": "stdout",
     "output_type": "stream",
     "text": [
      "Epoch 23 | Train Loss: 0.426 | Valid Loss: 0.393\n"
     ]
    },
    {
     "name": "stderr",
     "output_type": "stream",
     "text": [
      "100%|██████████| 567/567 [00:30<00:00, 18.31it/s]\n",
      "100%|██████████| 20/20 [00:00<00:00, 46.85it/s]\n"
     ]
    },
    {
     "name": "stdout",
     "output_type": "stream",
     "text": [
      "Epoch 24 | Train Loss: 0.420 | Valid Loss: 0.396\n"
     ]
    },
    {
     "name": "stderr",
     "output_type": "stream",
     "text": [
      "100%|██████████| 567/567 [00:31<00:00, 18.25it/s]\n",
      "100%|██████████| 20/20 [00:00<00:00, 46.85it/s]\n"
     ]
    },
    {
     "name": "stdout",
     "output_type": "stream",
     "text": [
      "Epoch 25 | Train Loss: 0.415 | Valid Loss: 0.383\n"
     ]
    },
    {
     "name": "stderr",
     "output_type": "stream",
     "text": [
      "100%|██████████| 567/567 [00:30<00:00, 18.30it/s]\n",
      "100%|██████████| 20/20 [00:00<00:00, 46.51it/s]\n"
     ]
    },
    {
     "name": "stdout",
     "output_type": "stream",
     "text": [
      "Epoch 26 | Train Loss: 0.404 | Valid Loss: 0.380\n"
     ]
    },
    {
     "name": "stderr",
     "output_type": "stream",
     "text": [
      "100%|██████████| 567/567 [00:31<00:00, 18.26it/s]\n",
      "100%|██████████| 20/20 [00:00<00:00, 46.76it/s]\n"
     ]
    },
    {
     "name": "stdout",
     "output_type": "stream",
     "text": [
      "Epoch 27 | Train Loss: 0.383 | Valid Loss: 0.374\n"
     ]
    },
    {
     "name": "stderr",
     "output_type": "stream",
     "text": [
      "100%|██████████| 567/567 [00:30<00:00, 18.33it/s]\n",
      "100%|██████████| 20/20 [00:00<00:00, 46.27it/s]\n"
     ]
    },
    {
     "name": "stdout",
     "output_type": "stream",
     "text": [
      "Epoch 28 | Train Loss: 0.379 | Valid Loss: 0.370\n"
     ]
    },
    {
     "name": "stderr",
     "output_type": "stream",
     "text": [
      "100%|██████████| 567/567 [00:31<00:00, 18.25it/s]\n",
      "100%|██████████| 20/20 [00:00<00:00, 46.56it/s]\n"
     ]
    },
    {
     "name": "stdout",
     "output_type": "stream",
     "text": [
      "Epoch 29 | Train Loss: 0.367 | Valid Loss: 0.372\n"
     ]
    },
    {
     "name": "stderr",
     "output_type": "stream",
     "text": [
      "100%|██████████| 567/567 [00:31<00:00, 18.24it/s]\n",
      "100%|██████████| 20/20 [00:00<00:00, 46.20it/s]\n"
     ]
    },
    {
     "name": "stdout",
     "output_type": "stream",
     "text": [
      "Epoch 30 | Train Loss: 0.360 | Valid Loss: 0.353\n"
     ]
    },
    {
     "name": "stderr",
     "output_type": "stream",
     "text": [
      "100%|██████████| 567/567 [00:31<00:00, 18.23it/s]\n",
      "100%|██████████| 20/20 [00:00<00:00, 46.45it/s]\n"
     ]
    },
    {
     "name": "stdout",
     "output_type": "stream",
     "text": [
      "Epoch 31 | Train Loss: 0.351 | Valid Loss: 0.347\n"
     ]
    },
    {
     "name": "stderr",
     "output_type": "stream",
     "text": [
      "100%|██████████| 567/567 [00:31<00:00, 18.21it/s]\n",
      "100%|██████████| 20/20 [00:00<00:00, 46.57it/s]\n"
     ]
    },
    {
     "name": "stdout",
     "output_type": "stream",
     "text": [
      "Epoch 32 | Train Loss: 0.346 | Valid Loss: 0.347\n"
     ]
    },
    {
     "name": "stderr",
     "output_type": "stream",
     "text": [
      "100%|██████████| 567/567 [00:31<00:00, 18.22it/s]\n",
      "100%|██████████| 20/20 [00:00<00:00, 46.33it/s]\n"
     ]
    },
    {
     "name": "stdout",
     "output_type": "stream",
     "text": [
      "Epoch 33 | Train Loss: 0.340 | Valid Loss: 0.339\n"
     ]
    },
    {
     "name": "stderr",
     "output_type": "stream",
     "text": [
      "100%|██████████| 567/567 [00:31<00:00, 18.24it/s]\n",
      "100%|██████████| 20/20 [00:00<00:00, 46.24it/s]\n"
     ]
    },
    {
     "name": "stdout",
     "output_type": "stream",
     "text": [
      "Epoch 34 | Train Loss: 0.335 | Valid Loss: 0.338\n"
     ]
    },
    {
     "name": "stderr",
     "output_type": "stream",
     "text": [
      "100%|██████████| 567/567 [00:31<00:00, 18.14it/s]\n",
      "100%|██████████| 20/20 [00:00<00:00, 46.37it/s]\n"
     ]
    },
    {
     "name": "stdout",
     "output_type": "stream",
     "text": [
      "Epoch 35 | Train Loss: 0.328 | Valid Loss: 0.357\n"
     ]
    },
    {
     "name": "stderr",
     "output_type": "stream",
     "text": [
      "100%|██████████| 567/567 [00:31<00:00, 18.20it/s]\n",
      "100%|██████████| 20/20 [00:00<00:00, 46.72it/s]\n"
     ]
    },
    {
     "name": "stdout",
     "output_type": "stream",
     "text": [
      "Epoch 36 | Train Loss: 0.322 | Valid Loss: 0.342\n"
     ]
    },
    {
     "name": "stderr",
     "output_type": "stream",
     "text": [
      "100%|██████████| 567/567 [00:31<00:00, 18.17it/s]\n",
      "100%|██████████| 20/20 [00:00<00:00, 46.04it/s]\n"
     ]
    },
    {
     "name": "stdout",
     "output_type": "stream",
     "text": [
      "Epoch 37 | Train Loss: 0.317 | Valid Loss: 0.333\n"
     ]
    },
    {
     "name": "stderr",
     "output_type": "stream",
     "text": [
      "100%|██████████| 567/567 [00:31<00:00, 18.28it/s]\n",
      "100%|██████████| 20/20 [00:00<00:00, 41.35it/s]\n"
     ]
    },
    {
     "name": "stdout",
     "output_type": "stream",
     "text": [
      "Epoch 38 | Train Loss: 0.313 | Valid Loss: 0.335\n"
     ]
    },
    {
     "name": "stderr",
     "output_type": "stream",
     "text": [
      "100%|██████████| 567/567 [00:31<00:00, 18.22it/s]\n",
      "100%|██████████| 20/20 [00:00<00:00, 46.60it/s]\n"
     ]
    },
    {
     "name": "stdout",
     "output_type": "stream",
     "text": [
      "Epoch 39 | Train Loss: 0.306 | Valid Loss: 0.337\n"
     ]
    },
    {
     "name": "stderr",
     "output_type": "stream",
     "text": [
      "100%|██████████| 567/567 [00:31<00:00, 18.27it/s]\n",
      "100%|██████████| 20/20 [00:00<00:00, 46.94it/s]\n"
     ]
    },
    {
     "name": "stdout",
     "output_type": "stream",
     "text": [
      "Epoch 40 | Train Loss: 0.302 | Valid Loss: 0.340\n"
     ]
    },
    {
     "name": "stderr",
     "output_type": "stream",
     "text": [
      "100%|██████████| 196/196 [00:07<00:00, 27.05it/s]\n"
     ]
    },
    {
     "name": "stdout",
     "output_type": "stream",
     "text": [
      "Test Loss: 0.342\n",
      "Test Accuracy: 85.78%\n",
      "Correct / Total: 42888 / 49997\n"
     ]
    },
    {
     "name": "stderr",
     "output_type": "stream",
     "text": [
      "wandb: WARNING Source type is set to 'repo' but some required information is missing from the environment. A job will not be created from this run. See https://docs.wandb.ai/guides/launch/create-job\n"
     ]
    },
    {
     "data": {
      "text/html": [
       "<style>\n",
       "    table.wandb td:nth-child(1) { padding: 0 10px; text-align: left ; width: auto;} td:nth-child(2) {text-align: left ; width: 100%}\n",
       "    .wandb-row { display: flex; flex-direction: row; flex-wrap: wrap; justify-content: flex-start; width: 100% }\n",
       "    .wandb-col { display: flex; flex-direction: column; flex-basis: 100%; flex: 1; padding: 10px; }\n",
       "    </style>\n",
       "<div class=\"wandb-row\"><div class=\"wandb-col\"><h3>Run history:</h3><br/><table class=\"wandb\"><tr><td>eval/loss</td><td>████▇▇▇▇▇▇▇▇▇▇▇▇▆▅▅▄▄▃▂▂▂▂▂▂▂▁▁▁▁▁▁▁▁▁▁▁</td></tr><tr><td>test/accuracy</td><td>▁</td></tr><tr><td>test/loss</td><td>▁</td></tr><tr><td>train/loss</td><td>█████▇▇▇▇▇▇▇▇▇▇▇▇▆▆▅▄▄▃▃▃▃▂▂▂▂▂▂▂▂▁▁▁▁▁▁</td></tr></table><br/></div><div class=\"wandb-col\"><h3>Run summary:</h3><br/><table class=\"wandb\"><tr><td>eval/loss</td><td>0.34011</td></tr><tr><td>test/accuracy</td><td>85.78115</td></tr><tr><td>test/loss</td><td>0.3416</td></tr><tr><td>train/loss</td><td>0.30221</td></tr></table><br/></div></div>"
      ],
      "text/plain": [
       "<IPython.core.display.HTML object>"
      ]
     },
     "metadata": {},
     "output_type": "display_data"
    },
    {
     "data": {
      "text/html": [
       " View run <strong style=\"color:#cdcd00\">nsmc-lstm-20240117-191301</strong> at: <a href='https://wandb.ai/kimkihyun/NLP_EXP_rnn_text_classification/runs/nsmc-lstm-20240117-191301' target=\"_blank\">https://wandb.ai/kimkihyun/NLP_EXP_rnn_text_classification/runs/nsmc-lstm-20240117-191301</a><br/>Synced 6 W&B file(s), 0 media file(s), 0 artifact file(s) and 0 other file(s)"
      ],
      "text/plain": [
       "<IPython.core.display.HTML object>"
      ]
     },
     "metadata": {},
     "output_type": "display_data"
    },
    {
     "data": {
      "text/html": [
       "Find logs at: <code>./wandb/run-20240117_191302-nsmc-lstm-20240117-191301/logs</code>"
      ],
      "text/plain": [
       "<IPython.core.display.HTML object>"
      ]
     },
     "metadata": {},
     "output_type": "display_data"
    }
   ],
   "source": [
    "main(config)    "
   ]
  }
 ],
 "metadata": {
  "kernelspec": {
   "display_name": "base",
   "language": "python",
   "name": "python3"
  },
  "language_info": {
   "codemirror_mode": {
    "name": "ipython",
    "version": 3
   },
   "file_extension": ".py",
   "mimetype": "text/x-python",
   "name": "python",
   "nbconvert_exporter": "python",
   "pygments_lexer": "ipython3",
   "version": "3.8.0"
  }
 },
 "nbformat": 4,
 "nbformat_minor": 2
}
