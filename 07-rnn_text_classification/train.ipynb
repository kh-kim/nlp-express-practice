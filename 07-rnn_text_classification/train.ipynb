{
 "cells": [
  {
   "cell_type": "code",
   "execution_count": null,
   "metadata": {},
   "outputs": [],
   "source": [
    "!nvidia-smi"
   ]
  },
  {
   "cell_type": "code",
   "execution_count": null,
   "metadata": {},
   "outputs": [],
   "source": [
    "import argparse\n",
    "\n",
    "from train import *"
   ]
  },
  {
   "cell_type": "code",
   "execution_count": null,
   "metadata": {},
   "outputs": [],
   "source": [
    "import os\n",
    "\n",
    "os.environ[\"CUDA_VISIBLE_DEVICES\"] = \"0\""
   ]
  },
  {
   "cell_type": "code",
   "execution_count": null,
   "metadata": {},
   "outputs": [],
   "source": [
    "!python ./train.py --help"
   ]
  },
  {
   "cell_type": "code",
   "execution_count": null,
   "metadata": {},
   "outputs": [],
   "source": [
    "MODEL_NAME=\"nsmc-lstm\"\n",
    "TRAIN_TSV_FN=\"./data/ratings_train.tsv\"\n",
    "VALID_TSV_FN=\"./data/ratings_test.tsv\"\n",
    "TEST_TSV_FN=\"./data/ratings_test.tsv\"\n",
    "GPU_ID=0"
   ]
  },
  {
   "cell_type": "code",
   "execution_count": null,
   "metadata": {},
   "outputs": [],
   "source": [
    "config = argparse.Namespace(\n",
    "    model_name=MODEL_NAME,\n",
    "    train_tsv_fn=TRAIN_TSV_FN,\n",
    "    valid_tsv_fn=VALID_TSV_FN,\n",
    "    test_tsv_fn=TEST_TSV_FN,\n",
    "    tokenizer=\"klue/bert-base\",\n",
    "    output_dir=\"checkpoints\",\n",
    "\n",
    "    gpu_id=GPU_ID,\n",
    "\n",
    "    batch_size=256,\n",
    "    n_epochs=40,\n",
    "    lr=1e-4,\n",
    "    max_grad_norm=5.,\n",
    "    warmup_steps=500,\n",
    "\n",
    "    embedding_dim=256,\n",
    "    hidden_dim=256,\n",
    "    n_layers=4,\n",
    "    dropout=.3,\n",
    "\n",
    "    max_length=256,\n",
    ")"
   ]
  },
  {
   "cell_type": "code",
   "execution_count": null,
   "metadata": {},
   "outputs": [],
   "source": [
    "main(config)    "
   ]
  }
 ],
 "metadata": {
  "kernelspec": {
   "display_name": "base",
   "language": "python",
   "name": "python3"
  },
  "language_info": {
   "codemirror_mode": {
    "name": "ipython",
    "version": 3
   },
   "file_extension": ".py",
   "mimetype": "text/x-python",
   "name": "python",
   "nbconvert_exporter": "python",
   "pygments_lexer": "ipython3",
   "version": "3.8.0"
  }
 },
 "nbformat": 4,
 "nbformat_minor": 2
}
