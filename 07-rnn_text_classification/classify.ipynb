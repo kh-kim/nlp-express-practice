{
 "cells": [
  {
   "cell_type": "code",
   "execution_count": 1,
   "metadata": {},
   "outputs": [
    {
     "name": "stdout",
     "output_type": "stream",
     "text": [
      "Wed Dec 20 14:03:58 2023       \n",
      "+---------------------------------------------------------------------------------------+\n",
      "| NVIDIA-SMI 530.41.03              Driver Version: 530.41.03    CUDA Version: 12.1     |\n",
      "|-----------------------------------------+----------------------+----------------------+\n",
      "| GPU  Name                  Persistence-M| Bus-Id        Disp.A | Volatile Uncorr. ECC |\n",
      "| Fan  Temp  Perf            Pwr:Usage/Cap|         Memory-Usage | GPU-Util  Compute M. |\n",
      "|                                         |                      |               MIG M. |\n",
      "|=========================================+======================+======================|\n",
      "|   0  NVIDIA GeForce RTX 3090         Off| 00000000:01:00.0 Off |                  N/A |\n",
      "| 36%   44C    P8               26W / 370W|  10658MiB / 24576MiB |      0%      Default |\n",
      "|                                         |                      |                  N/A |\n",
      "+-----------------------------------------+----------------------+----------------------+\n",
      "|   1  NVIDIA GeForce RTX 3090         Off| 00000000:04:00.0 Off |                  N/A |\n",
      "| 36%   30C    P8               29W / 370W|      6MiB / 24576MiB |      0%      Default |\n",
      "|                                         |                      |                  N/A |\n",
      "+-----------------------------------------+----------------------+----------------------+\n",
      "|   2  NVIDIA GeForce RTX 3090         Off| 00000000:07:00.0 Off |                  N/A |\n",
      "| 36%   31C    P8               34W / 370W|      6MiB / 24576MiB |      0%      Default |\n",
      "|                                         |                      |                  N/A |\n",
      "+-----------------------------------------+----------------------+----------------------+\n",
      "|   3  NVIDIA GeForce RTX 3090         Off| 00000000:08:00.0 Off |                  N/A |\n",
      "|  0%   37C    P8               22W / 370W|      6MiB / 24576MiB |      0%      Default |\n",
      "|                                         |                      |                  N/A |\n",
      "+-----------------------------------------+----------------------+----------------------+\n",
      "                                                                                         \n",
      "+---------------------------------------------------------------------------------------+\n",
      "| Processes:                                                                            |\n",
      "|  GPU   GI   CI        PID   Type   Process name                            GPU Memory |\n",
      "|        ID   ID                                                             Usage      |\n",
      "|=======================================================================================|\n",
      "|    0   N/A  N/A      1576      G   /usr/lib/xorg/Xorg                            9MiB |\n",
      "|    0   N/A  N/A      1796      G   /usr/bin/gnome-shell                          8MiB |\n",
      "|    0   N/A  N/A   2945732      C   .../miniconda3/envs/nlp_exp/bin/python    10636MiB |\n",
      "|    1   N/A  N/A      1576      G   /usr/lib/xorg/Xorg                            4MiB |\n",
      "|    2   N/A  N/A      1576      G   /usr/lib/xorg/Xorg                            4MiB |\n",
      "|    3   N/A  N/A      1576      G   /usr/lib/xorg/Xorg                            4MiB |\n",
      "+---------------------------------------------------------------------------------------+\n"
     ]
    }
   ],
   "source": [
    "!nvidia-smi"
   ]
  },
  {
   "cell_type": "code",
   "execution_count": 2,
   "metadata": {},
   "outputs": [
    {
     "name": "stdout",
     "output_type": "stream",
     "text": [
      "shuf: 쓰기 오류: 파이프가 깨어짐\n",
      "shuf: 쓰기 오류\n",
      "NEGATIVE\t0.9937\t진짜 별로 이나영 송강호가 나와도 스토리?연출?다별로니까 ....보는 내내 믿을수가 없었음\n",
      "NEGATIVE\t0.6127\t견자단 영화는 무조건 보는거삼ㅋㅋ\n",
      "NEGATIVE\t0.8261\t올해본 120편영화중 2번째로 후회하게 만든영화\n",
      "POSITIVE\t0.9051\t감정이 메마른 나를 울게 한 불후의 명작\n",
      "POSITIVE\t0.9913\t진짜 잼따 ㅎㅎㅎ굿굿 또이런영화있을까 ㅋㅋㅋ\n",
      "NEGATIVE\t0.7502\t도대체 이영화는 ㅉㅉㅉㅉ\n",
      "POSITIVE\t0.9252\t너무재미었음\n",
      "NEGATIVE\t0.9698\t내 생에 최악의 영화1위\n",
      "POSITIVE\t0.6383\t참.. 애새키들한테 좋은거 갈켜준다~\n",
      "NEGATIVE\t0.9419\t어릴적 트라우마가 살인의 정당성을 부여하는건 결코 아니다. 그들에게 희생된 사람들이야말로 진정한 피해자들. 가해자 인권 천국 한국에서 이런 의도의 영환 정말 싫다. 물론 재미도 없었고 마지막까지 어디선가 본 장면,설정들의 짜깁기 향연이었다\n",
      "POSITIVE\t0.6196\tart\n",
      "NEGATIVE\t0.9302\t이게무서워? 어두운거 특별히 무서운사람들만 그렇게 느껴지나-- 난 진짜 별루던데\n",
      "POSITIVE\t0.9825\t흐미. 이거 재밌네! ㅋㅋㅋ\n",
      "POSITIVE\t0.9532\t올만에 재밋게 봣네zzz\n",
      "NEGATIVE\t0.7752\t타임머신을 개발해놓고 기껏하는 사업아이템이 타임 사파리라니…\n",
      "NEGATIVE\t0.7992\t왜 카리스말 버리려드는가? 의외로 어울리는군\n",
      "POSITIVE\t0.9059\t마지막장면에서눈물폭팔..왜다른이념은 공존할수없었나 ㅠㅠ\n",
      "POSITIVE\t0.9135\ttakes me right back...엔딩 10분의 진한감동..\n",
      "NEGATIVE\t0.9018\t전라도 종북 좌파들의 반국가 간첩질을 미화\n",
      "NEGATIVE\t0.5339\tb\n"
     ]
    }
   ],
   "source": [
    "!cat ./data/ratings_test.tsv | cut -f2 | shuf | head -n 20 | python ./classify.py \\\n",
    "    --model_fn ./checkpoints/nsmc-lstm-20231118-161530.pt \\\n",
    "    --device 0"
   ]
  }
 ],
 "metadata": {
  "kernelspec": {
   "display_name": "base",
   "language": "python",
   "name": "python3"
  },
  "language_info": {
   "codemirror_mode": {
    "name": "ipython",
    "version": 3
   },
   "file_extension": ".py",
   "mimetype": "text/x-python",
   "name": "python",
   "nbconvert_exporter": "python",
   "pygments_lexer": "ipython3",
   "version": "3.8.0"
  }
 },
 "nbformat": 4,
 "nbformat_minor": 2
}
