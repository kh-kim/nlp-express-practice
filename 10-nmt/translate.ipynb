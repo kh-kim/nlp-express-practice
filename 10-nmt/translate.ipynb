{
 "cells": [
  {
   "cell_type": "code",
   "execution_count": 1,
   "metadata": {},
   "outputs": [
    {
     "name": "stdout",
     "output_type": "stream",
     "text": [
      "Sat Jan 20 17:37:47 2024       \n",
      "+---------------------------------------------------------------------------------------+\n",
      "| NVIDIA-SMI 530.41.03              Driver Version: 530.41.03    CUDA Version: 12.1     |\n",
      "|-----------------------------------------+----------------------+----------------------+\n",
      "| GPU  Name                  Persistence-M| Bus-Id        Disp.A | Volatile Uncorr. ECC |\n",
      "| Fan  Temp  Perf            Pwr:Usage/Cap|         Memory-Usage | GPU-Util  Compute M. |\n",
      "|                                         |                      |               MIG M. |\n",
      "|=========================================+======================+======================|\n",
      "|   0  NVIDIA GeForce RTX 3090         Off| 00000000:01:00.0 Off |                  N/A |\n",
      "| 36%   22C    P8               27W / 370W|     19MiB / 24576MiB |      0%      Default |\n",
      "|                                         |                      |                  N/A |\n",
      "+-----------------------------------------+----------------------+----------------------+\n",
      "|   1  NVIDIA GeForce RTX 3090         Off| 00000000:04:00.0 Off |                  N/A |\n",
      "| 35%   35C    P8               29W / 370W|      6MiB / 24576MiB |      0%      Default |\n",
      "|                                         |                      |                  N/A |\n",
      "+-----------------------------------------+----------------------+----------------------+\n",
      "|   2  NVIDIA GeForce RTX 3090         Off| 00000000:07:00.0 Off |                  N/A |\n",
      "| 53%   71C    P2              335W / 370W|  24070MiB / 24576MiB |     99%      Default |\n",
      "|                                         |                      |                  N/A |\n",
      "+-----------------------------------------+----------------------+----------------------+\n",
      "|   3  NVIDIA GeForce RTX 3090         Off| 00000000:08:00.0 Off |                  N/A |\n",
      "| 30%   74C    P2              331W / 370W|  23794MiB / 24576MiB |     98%      Default |\n",
      "|                                         |                      |                  N/A |\n",
      "+-----------------------------------------+----------------------+----------------------+\n",
      "                                                                                         \n",
      "+---------------------------------------------------------------------------------------+\n",
      "| Processes:                                                                            |\n",
      "|  GPU   GI   CI        PID   Type   Process name                            GPU Memory |\n",
      "|        ID   ID                                                             Usage      |\n",
      "|=======================================================================================|\n",
      "|    0   N/A  N/A      1576      G   /usr/lib/xorg/Xorg                            9MiB |\n",
      "|    0   N/A  N/A      1796      G   /usr/bin/gnome-shell                          8MiB |\n",
      "|    1   N/A  N/A      1576      G   /usr/lib/xorg/Xorg                            4MiB |\n",
      "|    2   N/A  N/A      1576      G   /usr/lib/xorg/Xorg                            4MiB |\n",
      "|    2   N/A  N/A   3859883      C   python                                    24062MiB |\n",
      "|    3   N/A  N/A      1576      G   /usr/lib/xorg/Xorg                            4MiB |\n",
      "|    3   N/A  N/A   3859989      C   python                                    23786MiB |\n",
      "+---------------------------------------------------------------------------------------+\n"
     ]
    }
   ],
   "source": [
    "!nvidia-smi"
   ]
  },
  {
   "cell_type": "code",
   "execution_count": 2,
   "metadata": {},
   "outputs": [
    {
     "name": "stdout",
     "output_type": "stream",
     "text": [
      "In weather that perhaps wouldn't have been out of place in Greenland?\n",
      "These problems are affecting more and more children as well as adults.\n",
      "Yes, damn it, I know what it is!\n",
      "What kinds of subjects have you seen in sculpture?\n",
      "Certainly DFID does pay the overhead costs.\n",
      "By default, the value is 5000, and the meter scale has a maximum of 5 million conversations per hour.\n",
      "How about I let you live?\n",
      "Congress goes on a recess next week for Easter.\n",
      "But he didn't seem too worried and left me lying on the couch.\n",
      "edge up\n"
     ]
    }
   ],
   "source": [
    "!cat ./data/sample/valid.en | head -n 10"
   ]
  },
  {
   "cell_type": "code",
   "execution_count": 3,
   "metadata": {},
   "outputs": [
    {
     "name": "stdout",
     "output_type": "stream",
     "text": [
      "Special tokens have been added in the vocabulary, make sure the associated word embeddings are fine-tuned or trained.\n",
      "Checkpoint is loaded on device: cuda:0\n",
      "  0%|                                                     | 0/1 [00:00<?, ?it/s]그린란드에 없을지 모르는 날씨에요?\n",
      "이러한 문제는 성인뿐만 아니라 어린이들에게도 점점 더 많은 영향을 미치고 있다.\n",
      "네, 다쳤네요, 무슨 일인지 알아요!\n",
      "조각에서 어떤 주제를 보셨나요?\n",
      "확실히 DFID는 오버헤드 비용을 지불합니다.\n",
      "채무불이행에 의해 값은 5000이고, 미터 척도는 시간당 최대 500만 개의 대화를 갖는다.\n",
      "내가 살게 하는 건 어때?\n",
      "의회는 다음 주에 부활절 휴가로 진행됩니다.\n",
      "하지만 그는 너무 걱정 안 한 것 같고 소파에 거짓말을 남겼어요.\n",
      "이젠.\n",
      "100%|█████████████████████████████████████████████| 1/1 [00:00<00:00,  1.26it/s]\n"
     ]
    }
   ],
   "source": [
    "!cat ./data/sample/valid.en | head -n 10 | python ./translate.py \\\n",
    "    --model_name nmt_corpus-enko-20231221-232126 \\\n",
    "    --gpu_id 0"
   ]
  }
 ],
 "metadata": {
  "kernelspec": {
   "display_name": "base",
   "language": "python",
   "name": "python3"
  },
  "language_info": {
   "codemirror_mode": {
    "name": "ipython",
    "version": 3
   },
   "file_extension": ".py",
   "mimetype": "text/x-python",
   "name": "python",
   "nbconvert_exporter": "python",
   "pygments_lexer": "ipython3",
   "version": "3.8.0"
  }
 },
 "nbformat": 4,
 "nbformat_minor": 2
}
