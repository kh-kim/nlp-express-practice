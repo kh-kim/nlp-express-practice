{
 "cells": [
  {
   "cell_type": "code",
   "execution_count": null,
   "metadata": {},
   "outputs": [],
   "source": [
    "!nvidia-smi"
   ]
  },
  {
   "cell_type": "code",
   "execution_count": null,
   "metadata": {},
   "outputs": [],
   "source": [
    "import argparse\n",
    "\n",
    "from train import *"
   ]
  },
  {
   "cell_type": "code",
   "execution_count": null,
   "metadata": {},
   "outputs": [],
   "source": [
    "import os\n",
    "\n",
    "os.environ[\"CUDA_VISIBLE_DEVICES\"] = \"0\""
   ]
  },
  {
   "cell_type": "code",
   "execution_count": null,
   "metadata": {},
   "outputs": [],
   "source": [
    "!python ./train.py --help"
   ]
  },
  {
   "cell_type": "code",
   "execution_count": null,
   "metadata": {},
   "outputs": [],
   "source": [
    "SRC_LANG = \"en\"\n",
    "TGT_LANG = \"ko\"\n",
    "\n",
    "MODEL_NAME = f\"nmt_corpus-{SRC_LANG}{TGT_LANG}\"\n",
    "TOKENIZER_DIR_PATH = \"./tokenizers/nmt_corpus\"\n",
    "DATA_DIR_PATH = \"./data/nmt_corpus\""
   ]
  },
  {
   "cell_type": "code",
   "execution_count": null,
   "metadata": {},
   "outputs": [],
   "source": [
    "config = argparse.Namespace(\n",
    "    model_name=MODEL_NAME,\n",
    "    tokenizer_dir_path=TOKENIZER_DIR_PATH,\n",
    "    data_dir_path=DATA_DIR_PATH,\n",
    "    output_dir_path=\"./checkpoints\",\n",
    "\n",
    "    src_lang=SRC_LANG,\n",
    "    tgt_lang=TGT_LANG,\n",
    "    max_length=256,\n",
    "\n",
    "    num_train_epochs=20,\n",
    "    learning_rate=2e-5,\n",
    "    warmup_ratio=0.0001,\n",
    "    min_warmup_steps=1000,\n",
    "    weight_decay=0.01,\n",
    "    lr_scheduler_type=\"linear\",\n",
    "    batch_size_per_device=64,\n",
    "    gradient_accumulation_steps=8,\n",
    "\n",
    "    num_logging_steps_per_epoch=200,\n",
    "    num_eval_steps_per_epoch=1,\n",
    "    num_save_steps_per_epoch=1,\n",
    "    save_total_limit=3,\n",
    "\n",
    "    fp16=True,\n",
    "    amp_backend=\"auto\",\n",
    "\n",
    "    pad_token=\"<pad>\",\n",
    "    bos_token=\"<s>\",\n",
    "    eos_token=\"</s>\",\n",
    ")"
   ]
  },
  {
   "cell_type": "code",
   "execution_count": null,
   "metadata": {},
   "outputs": [],
   "source": [
    "main(config)"
   ]
  }
 ],
 "metadata": {
  "language_info": {
   "name": "python"
  }
 },
 "nbformat": 4,
 "nbformat_minor": 2
}
