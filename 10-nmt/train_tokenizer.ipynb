{
 "cells": [
  {
   "cell_type": "code",
   "execution_count": 1,
   "metadata": {},
   "outputs": [
    {
     "name": "stdout",
     "output_type": "stream",
     "text": [
      "usage: train_tokenizer.py [-h] --train_files TRAIN_FILES [TRAIN_FILES ...]\n",
      "                          --output_name OUTPUT_NAME [--vocab_size VOCAB_SIZE]\n",
      "                          [--min_frequency MIN_FREQUENCY]\n",
      "                          [--output_dir OUTPUT_DIR]\n",
      "\n",
      "Train tokenizer\n",
      "\n",
      "optional arguments:\n",
      "  -h, --help            show this help message and exit\n",
      "  --train_files TRAIN_FILES [TRAIN_FILES ...]\n",
      "  --output_name OUTPUT_NAME\n",
      "  --vocab_size VOCAB_SIZE\n",
      "  --min_frequency MIN_FREQUENCY\n",
      "  --output_dir OUTPUT_DIR\n"
     ]
    }
   ],
   "source": [
    "!python train_tokenizer.py --help"
   ]
  },
  {
   "cell_type": "code",
   "execution_count": 2,
   "metadata": {},
   "outputs": [
    {
     "name": "stdout",
     "output_type": "stream",
     "text": [
      "\u001b[2K[00:00:07] Tokenize words                 ██████████████████ 6662906  /  6662906[00:00:01] Tokenize words                 ██████████████████ 0        /        0\n",
      "\u001b[2K[00:00:30] Count pairs                    ██████████████████ 6662906  /  6662906\n",
      "\u001b[2K[00:01:04] Compute merges                 ██████████████████ 59640    /    59640\n",
      "이것은 테스트 문장입니다. 어떻게 보이나요? 고유명사 \"파이썬 파이토치 허깅페이스\"는 어떻게 되나요?\n",
      ">>> ['ìĿ´ê²ĥìĿĢ', 'ĠíħĮìĬ¤íĬ¸', 'Ġë¬¸ìŀ¥', 'ìŀħëĭĪëĭ¤', '.', 'Ġìĸ´ëĸ»ê²Į', 'Ġë³´', 'ìĿ´ëĤĺ', 'ìļĶ', '?', 'Ġê³łìľł', 'ëªħ', 'ìĤ¬', 'Ġ\"', 'íĮĮìĿ´', 'ìį¬', 'ĠíĮĮìĿ´', 'íĨł', 'ì¹ĺ', 'ĠíĹĪ', 'ê¹ħ', 'íİĺìĿ´ìĬ¤', '\"', 'ëĬĶ', 'Ġìĸ´ëĸ»ê²Į', 'ĠëĲĺëĤĺìļĶ', '?']\n",
      ">>> 이것은 테스트 문장입니다. 어떻게 보이나요? 고유명사 \"파이썬 파이토치 허깅페이스\"는 어떻게 되나요?\n",
      "This is a test sentence. How does it look? Proper nouns \"Python PyTorch HuggingFace\" how does it go?\n",
      ">>> ['This', 'Ġis', 'Ġa', 'Ġtest', 'Ġsentence', '.', 'ĠHow', 'Ġdoes', 'Ġit', 'Ġlook', '?', 'ĠPro', 'per', 'Ġn', 'oun', 's', 'Ġ\"', 'Py', 'th', 'on', 'ĠPy', 'T', 'or', 'ch', 'ĠH', 'ug', 'ging', 'F', 'ace', '\"', 'Ġhow', 'Ġdoes', 'Ġit', 'Ġgo', '?']\n",
      ">>> This is a test sentence. How does it look? Proper nouns \"Python PyTorch HuggingFace\" how does it go?\n"
     ]
    }
   ],
   "source": [
    "!python train_tokenizer.py \\\n",
    "    --train_files ./data/nmt_corpus/train.en ./data/nmt_corpus/train.ko \\\n",
    "    --output_name nmt_corpus\n"
   ]
  }
 ],
 "metadata": {
  "kernelspec": {
   "display_name": "nlp_exp",
   "language": "python",
   "name": "python3"
  },
  "language_info": {
   "codemirror_mode": {
    "name": "ipython",
    "version": 3
   },
   "file_extension": ".py",
   "mimetype": "text/x-python",
   "name": "python",
   "nbconvert_exporter": "python",
   "pygments_lexer": "ipython3",
   "version": "3.8.0"
  }
 },
 "nbformat": 4,
 "nbformat_minor": 2
}
