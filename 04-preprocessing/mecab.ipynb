{
 "cells": [
  {
   "cell_type": "markdown",
   "metadata": {},
   "source": [
    "## Use Mecab\n",
    "\n",
    "How to install: https://konlpy.org/ko/v0.4.0/install/\n",
    "\n",
    "```sh\n",
    "$ sudo apt-get install curl\n",
    "$ bash <(curl -s https://raw.githubusercontent.com/konlpy/konlpy/master/scripts/mecab.sh)\n",
    "```"
   ]
  },
  {
   "cell_type": "code",
   "execution_count": 1,
   "metadata": {},
   "outputs": [
    {
     "name": "stdout",
     "output_type": "stream",
     "text": [
      "아버지\tNNG,*,F,아버지,*,*,*,*\n",
      "가\tJKS,*,F,가,*,*,*,*\n",
      "방\tNNG,장소,T,방,*,*,*,*\n",
      "에\tJKB,*,F,에,*,*,*,*\n",
      "들어가\tVV,*,F,들어가,*,*,*,*\n",
      "신다\tEP+EC,*,F,신다,Inflect,EP,EC,시/EP/*+ㄴ다/EC/*\n",
      "EOS\n"
     ]
    }
   ],
   "source": [
    "!echo \"아버지가 방에 들어가신다\" | mecab"
   ]
  },
  {
   "cell_type": "code",
   "execution_count": 2,
   "metadata": {},
   "outputs": [
    {
     "name": "stdout",
     "output_type": "stream",
     "text": [
      "아버지\tNNG,*,F,아버지,*,*,*,*\n",
      "방\tNNG,장소,T,방,*,*,*,*\n"
     ]
    }
   ],
   "source": [
    "!echo \"아버지가 방에 들어가신다\" | mecab | egrep -i \"\\s+NN.*,\""
   ]
  },
  {
   "cell_type": "code",
   "execution_count": 3,
   "metadata": {},
   "outputs": [
    {
     "name": "stdout",
     "output_type": "stream",
     "text": [
      "아버지 가 방 에 들어가 신다 \n"
     ]
    }
   ],
   "source": [
    "!echo \"아버지가 방에 들어가신다\" | mecab -O wakati"
   ]
  },
  {
   "cell_type": "markdown",
   "metadata": {},
   "source": [
    "### Tokenization Practice\n",
    "\n",
    "1. cut 명령어를 활용하여 2번째 컬럼을 분리한 후, mecab을 통해 분절하여 임시 파일에 저장하기\n",
    "2. cut 명령어를 활용하여 1번째 컬럼을 분리한 후, 임시 파일에 저장하기\n",
    "3. paste 명령어를 활용하여 두 컬럼을 하나의 파일로 합쳐 저장하기\n",
    "4. 임시 파일 삭제하기\n",
    "5. (optional) head 명령어를 활용하여 파일 결과 확인하기"
   ]
  },
  {
   "cell_type": "code",
   "execution_count": 4,
   "metadata": {},
   "outputs": [
    {
     "name": "stdout",
     "output_type": "stream",
     "text": [
      "NEGATIVE\t아 더 빙 . . 진짜 짜증 나 네요 목소리 \n",
      "POSITIVE\t흠 . .. 포스터 보고 초딩 영화 줄 . ... 오버 연기 조차 가볍 지 않 구나 \n",
      "NEGATIVE\t너무 재 밓었다그래서보는것을추천한다 \n",
      "NEGATIVE\t교도소 이야기 구먼 . . 솔직히 재미 는 없 다 . . 평점 조정 \n",
      "POSITIVE\t사이몬페그 의 익살 스런 연기 가 돋보였 던 영화 ! 스파이더맨 에서 늙 어 보이 기 만 했 던 커스틴 던스트 가 너무나 도 이뻐 보였 다 \n",
      "NEGATIVE\t막 걸음마 뗀 3 세 부터 초등 학교 1 학년 생 인 8 살 용 영화 . ㅋㅋㅋ . .. 별반 개 도 아까움 . \n",
      "NEGATIVE\t원작 의 긴장감 을 제대로 살려 내 지 못했 다 . \n",
      "NEGATIVE\t별 반개 도 아깝 다 욕 나온다 이응경 길용우 연기 생활 이 몇 년 인지 . . 정말 발 로 해도 그것 보단 낫 겟 다 납치 . 감금 만 반복 반복 . . 이 드라마 는 가족 도 없 다 연기 못 하 는 사람 만 모엿 네 \n",
      "POSITIVE\t액션 이 없 는데 도 재미 있 는 몇 안 되 는 영화 \n",
      "POSITIVE\t왜 케 평점 이 낮 은 건데 ? 꽤 볼 만한데 . . 헐리우드 식 화려 함 에 만 너무 길들여져 있 나 ? \n"
     ]
    }
   ],
   "source": [
    "!cat ./data/ratings_train.tsv | cut -f2 | mecab -O wakati > ./data/ratings_train.tok.txt\n",
    "!cat ./data/ratings_train.tsv | cut -f1 > ./data/ratings_train.labels.txt\n",
    "!paste ./data/ratings_train.labels.txt ./data/ratings_train.tok.txt > ./data/ratings_train.tok.tsv\n",
    "!rm ./data/ratings_train.tok.txt ./data/ratings_train.labels.txt\n",
    "\n",
    "!head -n 10 ./data/ratings_train.tok.tsv"
   ]
  },
  {
   "cell_type": "markdown",
   "metadata": {},
   "source": [
    "# Use Pecab\n",
    "\n",
    "https://github.com/hyunwoongko/pecab"
   ]
  },
  {
   "cell_type": "code",
   "execution_count": 5,
   "metadata": {},
   "outputs": [
    {
     "name": "stdout",
     "output_type": "stream",
     "text": [
      "Requirement already satisfied: pecab in /home/khkim/miniconda3/envs/nlp_exp/lib/python3.8/site-packages (1.0.8)\n",
      "Requirement already satisfied: numpy in /home/khkim/miniconda3/envs/nlp_exp/lib/python3.8/site-packages (from pecab) (1.24.4)\n",
      "Requirement already satisfied: pyarrow in /home/khkim/miniconda3/envs/nlp_exp/lib/python3.8/site-packages (from pecab) (14.0.1)\n",
      "Requirement already satisfied: regex in /home/khkim/miniconda3/envs/nlp_exp/lib/python3.8/site-packages (from pecab) (2023.10.3)\n",
      "Requirement already satisfied: emoji==1.2.0 in /home/khkim/miniconda3/envs/nlp_exp/lib/python3.8/site-packages (from pecab) (1.2.0)\n",
      "Requirement already satisfied: pytest in /home/khkim/miniconda3/envs/nlp_exp/lib/python3.8/site-packages (from pecab) (7.4.3)\n",
      "Requirement already satisfied: iniconfig in /home/khkim/miniconda3/envs/nlp_exp/lib/python3.8/site-packages (from pytest->pecab) (2.0.0)\n",
      "Requirement already satisfied: packaging in /home/khkim/miniconda3/envs/nlp_exp/lib/python3.8/site-packages (from pytest->pecab) (23.2)\n",
      "Requirement already satisfied: pluggy<2.0,>=0.12 in /home/khkim/miniconda3/envs/nlp_exp/lib/python3.8/site-packages (from pytest->pecab) (1.3.0)\n",
      "Requirement already satisfied: exceptiongroup>=1.0.0rc8 in /home/khkim/miniconda3/envs/nlp_exp/lib/python3.8/site-packages (from pytest->pecab) (1.2.0)\n",
      "Requirement already satisfied: tomli>=1.0.0 in /home/khkim/miniconda3/envs/nlp_exp/lib/python3.8/site-packages (from pytest->pecab) (2.0.1)\n"
     ]
    }
   ],
   "source": [
    "!pip install pecab"
   ]
  },
  {
   "cell_type": "code",
   "execution_count": 6,
   "metadata": {},
   "outputs": [],
   "source": [
    "from pecab import PeCab\n",
    "\n",
    "pecab = PeCab()"
   ]
  },
  {
   "cell_type": "code",
   "execution_count": 7,
   "metadata": {},
   "outputs": [],
   "source": [
    "text = \"아버지가 방에 들어가신다\""
   ]
  },
  {
   "cell_type": "code",
   "execution_count": 8,
   "metadata": {},
   "outputs": [
    {
     "data": {
      "text/plain": [
       "[('아버지', 'NNG'),\n",
       " ('가', 'JKS'),\n",
       " ('방', 'NNG'),\n",
       " ('에', 'JKB'),\n",
       " ('들어가', 'VV'),\n",
       " ('신다', 'EP+EC')]"
      ]
     },
     "execution_count": 8,
     "metadata": {},
     "output_type": "execute_result"
    }
   ],
   "source": [
    "pecab.pos(text)"
   ]
  },
  {
   "cell_type": "code",
   "execution_count": 9,
   "metadata": {},
   "outputs": [
    {
     "data": {
      "text/plain": [
       "['아버지', '가', '방', '에', '들어가', '신다']"
      ]
     },
     "execution_count": 9,
     "metadata": {},
     "output_type": "execute_result"
    }
   ],
   "source": [
    "pecab.morphs(text)"
   ]
  }
 ],
 "metadata": {
  "kernelspec": {
   "display_name": "base",
   "language": "python",
   "name": "python3"
  },
  "language_info": {
   "codemirror_mode": {
    "name": "ipython",
    "version": 3
   },
   "file_extension": ".py",
   "mimetype": "text/x-python",
   "name": "python",
   "nbconvert_exporter": "python",
   "pygments_lexer": "ipython3",
   "version": "3.8.0"
  },
  "orig_nbformat": 4
 },
 "nbformat": 4,
 "nbformat_minor": 2
}
